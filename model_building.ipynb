{
 "cells": [
  {
   "cell_type": "markdown",
   "id": "52fbe494",
   "metadata": {},
   "source": [
    "# Task: Build a model that can predict if a certain employee will leave the company or not"
   ]
  },
  {
   "cell_type": "markdown",
   "id": "9c141a8b",
   "metadata": {},
   "source": [
    "In this task, we will investgate `four machine leaning models` on the given data and use appropriate metrics to measure the performance of them. "
   ]
  },
  {
   "cell_type": "markdown",
   "id": "75229536",
   "metadata": {},
   "source": [
    "#### Import all required libraries"
   ]
  },
  {
   "cell_type": "code",
   "execution_count": 1,
   "id": "2cb9adad",
   "metadata": {},
   "outputs": [],
   "source": [
    "import pandas as pd\n",
    "import matplotlib.pyplot as plt\n",
    "import numpy as np\n",
    "import seaborn as sns\n",
    "\n",
    "from sklearn import preprocessing\n",
    "from sklearn.model_selection import train_test_split\n",
    "from sklearn.metrics import accuracy_score, classification_report, confusion_matrix, roc_auc_score, roc_curve\n",
    "\n",
    "from sklearn.ensemble import RandomForestClassifier\n",
    "from sklearn.linear_model import LogisticRegression\n",
    "from sklearn.neighbors import KNeighborsClassifier\n",
    "from sklearn.svm import SVC\n",
    "from sklearn.naive_bayes import GaussianNB\n",
    "import warnings\n",
    "\n",
    "%matplotlib inline\n",
    "\n",
    "seed = 100\n",
    "\n",
    "warnings.filterwarnings(\"ignore\")"
   ]
  },
  {
   "cell_type": "markdown",
   "id": "3b2b2149",
   "metadata": {},
   "source": [
    "#### Load data"
   ]
  },
  {
   "cell_type": "code",
   "execution_count": 2,
   "id": "822cb543",
   "metadata": {},
   "outputs": [
    {
     "data": {
      "text/html": [
       "<div>\n",
       "<style scoped>\n",
       "    .dataframe tbody tr th:only-of-type {\n",
       "        vertical-align: middle;\n",
       "    }\n",
       "\n",
       "    .dataframe tbody tr th {\n",
       "        vertical-align: top;\n",
       "    }\n",
       "\n",
       "    .dataframe thead th {\n",
       "        text-align: right;\n",
       "    }\n",
       "</style>\n",
       "<table border=\"1\" class=\"dataframe\">\n",
       "  <thead>\n",
       "    <tr style=\"text-align: right;\">\n",
       "      <th></th>\n",
       "      <th>satisfaction_level</th>\n",
       "      <th>last_evaluation</th>\n",
       "      <th>number_project</th>\n",
       "      <th>average_montly_hours</th>\n",
       "      <th>time_spend_company</th>\n",
       "      <th>Work_accident</th>\n",
       "      <th>left</th>\n",
       "      <th>promotion_last_5years</th>\n",
       "      <th>sales</th>\n",
       "      <th>salary</th>\n",
       "    </tr>\n",
       "  </thead>\n",
       "  <tbody>\n",
       "    <tr>\n",
       "      <th>0</th>\n",
       "      <td>0.38</td>\n",
       "      <td>0.53</td>\n",
       "      <td>2</td>\n",
       "      <td>157</td>\n",
       "      <td>3</td>\n",
       "      <td>0</td>\n",
       "      <td>1</td>\n",
       "      <td>0</td>\n",
       "      <td>sales</td>\n",
       "      <td>low</td>\n",
       "    </tr>\n",
       "    <tr>\n",
       "      <th>1</th>\n",
       "      <td>0.80</td>\n",
       "      <td>0.86</td>\n",
       "      <td>5</td>\n",
       "      <td>262</td>\n",
       "      <td>6</td>\n",
       "      <td>0</td>\n",
       "      <td>1</td>\n",
       "      <td>0</td>\n",
       "      <td>sales</td>\n",
       "      <td>medium</td>\n",
       "    </tr>\n",
       "    <tr>\n",
       "      <th>2</th>\n",
       "      <td>0.11</td>\n",
       "      <td>0.88</td>\n",
       "      <td>7</td>\n",
       "      <td>272</td>\n",
       "      <td>4</td>\n",
       "      <td>0</td>\n",
       "      <td>1</td>\n",
       "      <td>0</td>\n",
       "      <td>sales</td>\n",
       "      <td>medium</td>\n",
       "    </tr>\n",
       "    <tr>\n",
       "      <th>3</th>\n",
       "      <td>0.72</td>\n",
       "      <td>0.87</td>\n",
       "      <td>5</td>\n",
       "      <td>223</td>\n",
       "      <td>5</td>\n",
       "      <td>0</td>\n",
       "      <td>1</td>\n",
       "      <td>0</td>\n",
       "      <td>sales</td>\n",
       "      <td>low</td>\n",
       "    </tr>\n",
       "    <tr>\n",
       "      <th>4</th>\n",
       "      <td>0.37</td>\n",
       "      <td>0.52</td>\n",
       "      <td>2</td>\n",
       "      <td>159</td>\n",
       "      <td>3</td>\n",
       "      <td>0</td>\n",
       "      <td>1</td>\n",
       "      <td>0</td>\n",
       "      <td>sales</td>\n",
       "      <td>low</td>\n",
       "    </tr>\n",
       "  </tbody>\n",
       "</table>\n",
       "</div>"
      ],
      "text/plain": [
       "   satisfaction_level  last_evaluation  number_project  average_montly_hours  \\\n",
       "0                0.38             0.53               2                   157   \n",
       "1                0.80             0.86               5                   262   \n",
       "2                0.11             0.88               7                   272   \n",
       "3                0.72             0.87               5                   223   \n",
       "4                0.37             0.52               2                   159   \n",
       "\n",
       "   time_spend_company  Work_accident  left  promotion_last_5years  sales  \\\n",
       "0                   3              0     1                      0  sales   \n",
       "1                   6              0     1                      0  sales   \n",
       "2                   4              0     1                      0  sales   \n",
       "3                   5              0     1                      0  sales   \n",
       "4                   3              0     1                      0  sales   \n",
       "\n",
       "   salary  \n",
       "0     low  \n",
       "1  medium  \n",
       "2  medium  \n",
       "3     low  \n",
       "4     low  "
      ]
     },
     "execution_count": 2,
     "metadata": {},
     "output_type": "execute_result"
    }
   ],
   "source": [
    "#laod data\n",
    "employee = pd.read_csv('HR_comma_sep__281_29__281_29.csv')\n",
    "\n",
    "# first five rows\n",
    "employee.head()"
   ]
  },
  {
   "cell_type": "markdown",
   "id": "38538c1b",
   "metadata": {},
   "source": [
    "**Each row is dedicated for a different employee.**"
   ]
  },
  {
   "cell_type": "code",
   "execution_count": 3,
   "id": "f92c8805",
   "metadata": {},
   "outputs": [],
   "source": [
    "#rename columns for easy understanding\n",
    "employee = employee.rename(columns={'satisfaction_level': 'satisfaction', \n",
    "                        'last_evaluation': 'evaluation',\n",
    "                        'number_project': 'numberProject',\n",
    "                        'average_montly_hours': 'averageMonthlyHrs',\n",
    "                        'time_spend_company': 'yearsAtCompany',\n",
    "                        'Work_accident': 'workAccident',\n",
    "                        'promotion_last_5years': 'promotion5yrs',\n",
    "                        'sales' : 'department',\n",
    "                        'left' : 'turnover'})\n",
    "\n",
    "#rearrange columns\n",
    "employee = employee[['satisfaction', 'evaluation','numberProject',\n",
    "                    'averageMonthlyHrs','yearsAtCompany',\n",
    "                     'workAccident', 'promotion5yrs',\n",
    "                     'department', 'salary', 'turnover']]\n"
   ]
  },
  {
   "cell_type": "markdown",
   "id": "9b35e009",
   "metadata": {},
   "source": [
    "Before applying machine learning algorithm, it is mandatory to perform some preprocessing steps such as label encoding, removing duplicates, treat outliers and so on."
   ]
  },
  {
   "cell_type": "markdown",
   "id": "c1168502",
   "metadata": {},
   "source": [
    "## Preprocessing"
   ]
  },
  {
   "cell_type": "markdown",
   "id": "28836c0a",
   "metadata": {},
   "source": [
    "### Label encoding"
   ]
  },
  {
   "cell_type": "code",
   "execution_count": 4,
   "id": "15b6a54a",
   "metadata": {},
   "outputs": [
    {
     "name": "stdout",
     "output_type": "stream",
     "text": [
      "{'department': [('IT', 0), ('RandD', 1), ('accounting', 2), ('hr', 3), ('management', 4), ('marketing', 5), ('product_mng', 6), ('sales', 7), ('support', 8), ('technical', 9)], 'salary': [('high', 0), ('low', 1), ('medium', 2)]}\n"
     ]
    }
   ],
   "source": [
    "# Encode labels in department and salary attributes.\n",
    "encode_label = ['department', 'salary']\n",
    "\n",
    "#store label_encoding result in encode_result\n",
    "encode_result = dict()\n",
    "\n",
    "# label_encoder object knows how to understand word labels. \n",
    "label_encoder = preprocessing.LabelEncoder()\n",
    "\n",
    "for label in encode_label:\n",
    "    employee[label]= label_encoder.fit_transform(employee[label])\n",
    "    encode_mapping = list(zip(label_encoder.classes_, label_encoder.transform(label_encoder.classes_)))\n",
    "    encode_result[label] = encode_mapping\n",
    "\n",
    "print(encode_result)"
   ]
  },
  {
   "cell_type": "markdown",
   "id": "ffd3a691",
   "metadata": {},
   "source": [
    "### Remove duplicates"
   ]
  },
  {
   "cell_type": "code",
   "execution_count": 5,
   "id": "779a25db",
   "metadata": {},
   "outputs": [
    {
     "data": {
      "text/plain": [
       "3008"
      ]
     },
     "execution_count": 5,
     "metadata": {},
     "output_type": "execute_result"
    }
   ],
   "source": [
    "#duplicate values frequency\n",
    "employee.duplicated().sum()"
   ]
  },
  {
   "cell_type": "markdown",
   "id": "7f91dbaa",
   "metadata": {},
   "source": [
    "This corresponds to about 20% of the total datapoints. One similar datapoint is retained and other datapoints are removed. Presence of duplicate values could lead to overfitting."
   ]
  },
  {
   "cell_type": "code",
   "execution_count": 6,
   "id": "95fa1430",
   "metadata": {},
   "outputs": [],
   "source": [
    "#remove duplicates\n",
    "employee.drop_duplicates(inplace=True)"
   ]
  },
  {
   "cell_type": "code",
   "execution_count": 7,
   "id": "88eeae43",
   "metadata": {},
   "outputs": [
    {
     "data": {
      "text/plain": [
       "(11991, 10)"
      ]
     },
     "execution_count": 7,
     "metadata": {},
     "output_type": "execute_result"
    }
   ],
   "source": [
    "employee.shape"
   ]
  },
  {
   "cell_type": "markdown",
   "id": "ef7d6195",
   "metadata": {},
   "source": [
    "### Outliers"
   ]
  },
  {
   "cell_type": "code",
   "execution_count": 8,
   "id": "40437d51",
   "metadata": {},
   "outputs": [
    {
     "data": {
      "text/plain": [
       "<AxesSubplot:xlabel='satisfaction'>"
      ]
     },
     "execution_count": 8,
     "metadata": {},
     "output_type": "execute_result"
    },
    {
     "data": {
      "image/png": "[encoded data removed]",
      "text/plain": [
       "<Figure size 432x288 with 1 Axes>"
      ]
     },
     "metadata": {
      "needs_background": "light"
     },
     "output_type": "display_data"
    }
   ],
   "source": [
    "sns.boxplot(employee.satisfaction)"
   ]
  },
  {
   "cell_type": "code",
   "execution_count": 9,
   "id": "5ab3ff33",
   "metadata": {},
   "outputs": [
    {
     "data": {
      "text/plain": [
       "<AxesSubplot:xlabel='evaluation'>"
      ]
     },
     "execution_count": 9,
     "metadata": {},
     "output_type": "execute_result"
    },
    {
     "data": {
      "image/png": "[encoded data removed]",
      "text/plain": [
       "<Figure size 432x288 with 1 Axes>"
      ]
     },
     "metadata": {
      "needs_background": "light"
     },
     "output_type": "display_data"
    }
   ],
   "source": [
    "sns.boxplot(employee.evaluation)"
   ]
  },
  {
   "cell_type": "code",
   "execution_count": 10,
   "id": "64b9ce7e",
   "metadata": {},
   "outputs": [
    {
     "data": {
      "text/plain": [
       "<AxesSubplot:xlabel='numberProject'>"
      ]
     },
     "execution_count": 10,
     "metadata": {},
     "output_type": "execute_result"
    },
    {
     "data": {
      "image/png": "[encoded data removed]",
      "text/plain": [
       "<Figure size 432x288 with 1 Axes>"
      ]
     },
     "metadata": {
      "needs_background": "light"
     },
     "output_type": "display_data"
    }
   ],
   "source": [
    "sns.boxplot(employee.numberProject)"
   ]
  },
  {
   "cell_type": "code",
   "execution_count": 11,
   "id": "7af6c465",
   "metadata": {},
   "outputs": [
    {
     "data": {
      "text/plain": [
       "<AxesSubplot:xlabel='averageMonthlyHrs'>"
      ]
     },
     "execution_count": 11,
     "metadata": {},
     "output_type": "execute_result"
    },
    {
     "data": {
      "image/png": "[encoded data removed]",
      "text/plain": [
       "<Figure size 432x288 with 1 Axes>"
      ]
     },
     "metadata": {
      "needs_background": "light"
     },
     "output_type": "display_data"
    }
   ],
   "source": [
    "sns.boxplot(employee.averageMonthlyHrs)"
   ]
  },
  {
   "cell_type": "code",
   "execution_count": 12,
   "id": "348fe016",
   "metadata": {},
   "outputs": [
    {
     "data": {
      "text/plain": [
       "<AxesSubplot:xlabel='yearsAtCompany'>"
      ]
     },
     "execution_count": 12,
     "metadata": {},
     "output_type": "execute_result"
    },
    {
     "data": {
      "image/png": "[encoded data removed]",
      "text/plain": [
       "<Figure size 432x288 with 1 Axes>"
      ]
     },
     "metadata": {
      "needs_background": "light"
     },
     "output_type": "display_data"
    }
   ],
   "source": [
    "sns.boxplot(employee.yearsAtCompany)"
   ]
  },
  {
   "cell_type": "markdown",
   "id": "428c4d84",
   "metadata": {},
   "source": [
    "From the above plots, we can the infer the following:\n",
    "- yearsAtCompany has few outliers. These points cannot be removed since duration of an employee has been associated with the company.\n",
    "- Removing important datapoints lead to bad performance."
   ]
  },
  {
   "cell_type": "markdown",
   "id": "6ee6d54c",
   "metadata": {},
   "source": [
    "### Feature scaling"
   ]
  },
  {
   "cell_type": "markdown",
   "id": "c954498e",
   "metadata": {},
   "source": [
    "Data is Normalised using Min-Max Scaler since the data does not have too many outliers."
   ]
  },
  {
   "cell_type": "code",
   "execution_count": 13,
   "id": "66ceb017",
   "metadata": {},
   "outputs": [
    {
     "data": {
      "text/html": [
       "<div>\n",
       "<style scoped>\n",
       "    .dataframe tbody tr th:only-of-type {\n",
       "        vertical-align: middle;\n",
       "    }\n",
       "\n",
       "    .dataframe tbody tr th {\n",
       "        vertical-align: top;\n",
       "    }\n",
       "\n",
       "    .dataframe thead th {\n",
       "        text-align: right;\n",
       "    }\n",
       "</style>\n",
       "<table border=\"1\" class=\"dataframe\">\n",
       "  <thead>\n",
       "    <tr style=\"text-align: right;\">\n",
       "      <th></th>\n",
       "      <th>satisfaction</th>\n",
       "      <th>evaluation</th>\n",
       "      <th>numberProject</th>\n",
       "      <th>averageMonthlyHrs</th>\n",
       "      <th>yearsAtCompany</th>\n",
       "      <th>workAccident</th>\n",
       "      <th>promotion5yrs</th>\n",
       "      <th>department</th>\n",
       "      <th>salary</th>\n",
       "      <th>turnover</th>\n",
       "    </tr>\n",
       "  </thead>\n",
       "  <tbody>\n",
       "    <tr>\n",
       "      <th>0</th>\n",
       "      <td>0.318681</td>\n",
       "      <td>0.265625</td>\n",
       "      <td>0.0</td>\n",
       "      <td>0.285047</td>\n",
       "      <td>0.125</td>\n",
       "      <td>0.0</td>\n",
       "      <td>0.0</td>\n",
       "      <td>0.777778</td>\n",
       "      <td>0.5</td>\n",
       "      <td>1.0</td>\n",
       "    </tr>\n",
       "    <tr>\n",
       "      <th>1</th>\n",
       "      <td>0.780220</td>\n",
       "      <td>0.781250</td>\n",
       "      <td>0.6</td>\n",
       "      <td>0.775701</td>\n",
       "      <td>0.500</td>\n",
       "      <td>0.0</td>\n",
       "      <td>0.0</td>\n",
       "      <td>0.777778</td>\n",
       "      <td>1.0</td>\n",
       "      <td>1.0</td>\n",
       "    </tr>\n",
       "    <tr>\n",
       "      <th>2</th>\n",
       "      <td>0.021978</td>\n",
       "      <td>0.812500</td>\n",
       "      <td>1.0</td>\n",
       "      <td>0.822430</td>\n",
       "      <td>0.250</td>\n",
       "      <td>0.0</td>\n",
       "      <td>0.0</td>\n",
       "      <td>0.777778</td>\n",
       "      <td>1.0</td>\n",
       "      <td>1.0</td>\n",
       "    </tr>\n",
       "    <tr>\n",
       "      <th>3</th>\n",
       "      <td>0.692308</td>\n",
       "      <td>0.796875</td>\n",
       "      <td>0.6</td>\n",
       "      <td>0.593458</td>\n",
       "      <td>0.375</td>\n",
       "      <td>0.0</td>\n",
       "      <td>0.0</td>\n",
       "      <td>0.777778</td>\n",
       "      <td>0.5</td>\n",
       "      <td>1.0</td>\n",
       "    </tr>\n",
       "    <tr>\n",
       "      <th>4</th>\n",
       "      <td>0.307692</td>\n",
       "      <td>0.250000</td>\n",
       "      <td>0.0</td>\n",
       "      <td>0.294393</td>\n",
       "      <td>0.125</td>\n",
       "      <td>0.0</td>\n",
       "      <td>0.0</td>\n",
       "      <td>0.777778</td>\n",
       "      <td>0.5</td>\n",
       "      <td>1.0</td>\n",
       "    </tr>\n",
       "  </tbody>\n",
       "</table>\n",
       "</div>"
      ],
      "text/plain": [
       "   satisfaction  evaluation  numberProject  averageMonthlyHrs  yearsAtCompany  \\\n",
       "0      0.318681    0.265625            0.0           0.285047           0.125   \n",
       "1      0.780220    0.781250            0.6           0.775701           0.500   \n",
       "2      0.021978    0.812500            1.0           0.822430           0.250   \n",
       "3      0.692308    0.796875            0.6           0.593458           0.375   \n",
       "4      0.307692    0.250000            0.0           0.294393           0.125   \n",
       "\n",
       "   workAccident  promotion5yrs  department  salary  turnover  \n",
       "0           0.0            0.0    0.777778     0.5       1.0  \n",
       "1           0.0            0.0    0.777778     1.0       1.0  \n",
       "2           0.0            0.0    0.777778     1.0       1.0  \n",
       "3           0.0            0.0    0.777778     0.5       1.0  \n",
       "4           0.0            0.0    0.777778     0.5       1.0  "
      ]
     },
     "execution_count": 13,
     "metadata": {},
     "output_type": "execute_result"
    }
   ],
   "source": [
    "#min max scaler\n",
    "minmax = preprocessing.MinMaxScaler()\n",
    "data = minmax.fit_transform(employee)\n",
    "data = pd.DataFrame(data)\n",
    "data.columns = employee.columns\n",
    "data.head()"
   ]
  },
  {
   "cell_type": "markdown",
   "id": "802eeba8",
   "metadata": {},
   "source": [
    "### Performance metrics"
   ]
  },
  {
   "cell_type": "markdown",
   "id": "d847f40b",
   "metadata": {},
   "source": [
    "**AUC-ROC** curve is a performance measurement for the classification problems at various threshold settings. ROC is a probability curve and AUC represents the degree or measure of separability. It tells how much the model is capable of distinguishing between classes. Higher the AUC, the better the model is at predicting 0 classes as 0 and 1 classes as 1."
   ]
  },
  {
   "cell_type": "code",
   "execution_count": 14,
   "id": "4f1fd90c",
   "metadata": {},
   "outputs": [],
   "source": [
    "# assign features and targets\n",
    "X = data.iloc[:, :-1].values\n",
    "y = data.iloc[:, -1].values\n",
    "\n",
    "# split into training and testing sets\n",
    "X_train, X_test, y_train, y_test = train_test_split(X, y, shuffle=True, test_size=0.2, random_state=seed)"
   ]
  },
  {
   "cell_type": "markdown",
   "id": "f7a04c8a",
   "metadata": {},
   "source": [
    "### Logistic Regression"
   ]
  },
  {
   "cell_type": "code",
   "execution_count": 15,
   "id": "afd2f6bb",
   "metadata": {},
   "outputs": [
    {
     "name": "stdout",
     "output_type": "stream",
     "text": [
      "---Logistic Regression Model---\n",
      "Logistic Regression AUC = 0.58\n",
      "Accuracy =  0.83\n",
      "\n",
      "[[1905   97]\n",
      " [ 316   81]]\n",
      "              precision    recall  f1-score   support\n",
      "\n",
      "         0.0       0.86      0.95      0.90      2002\n",
      "         1.0       0.46      0.20      0.28       397\n",
      "\n",
      "    accuracy                           0.83      2399\n",
      "   macro avg       0.66      0.58      0.59      2399\n",
      "weighted avg       0.79      0.83      0.80      2399\n",
      "\n"
     ]
    }
   ],
   "source": [
    "# Create a Logistic regression classifier\n",
    "lr = LogisticRegression()\n",
    "\n",
    "# Fit the model\n",
    "lr.fit(X_train, y_train)\n",
    "\n",
    "# Train the model using training set\n",
    "lr_pred = lr.predict(X_test)\n",
    "\n",
    "print (\"---Logistic Regression Model---\")\n",
    "lr_auc = roc_auc_score(y_test, lr_pred)\n",
    "print (\"Logistic Regression AUC = %2.2f\" % lr_auc)\n",
    "print(\"Accuracy = \", round(accuracy_score(y_test, lr_pred),2)) \n",
    "print()\n",
    "print(confusion_matrix(y_test, lr_pred))\n",
    "print(classification_report(y_test, lr_pred))"
   ]
  },
  {
   "cell_type": "markdown",
   "id": "99654c7d",
   "metadata": {},
   "source": [
    "### KNN classifier"
   ]
  },
  {
   "cell_type": "code",
   "execution_count": 16,
   "id": "ec4cc1c3",
   "metadata": {},
   "outputs": [
    {
     "name": "stdout",
     "output_type": "stream",
     "text": [
      "---KNN Classifier Model---\n",
      "KNN Classifier AUC = 0.93\n",
      "Accuracy =  0.96\n",
      "\n",
      "[[1939   63]\n",
      " [  43  354]]\n",
      "              precision    recall  f1-score   support\n",
      "\n",
      "         0.0       0.98      0.97      0.97      2002\n",
      "         1.0       0.85      0.89      0.87       397\n",
      "\n",
      "    accuracy                           0.96      2399\n",
      "   macro avg       0.91      0.93      0.92      2399\n",
      "weighted avg       0.96      0.96      0.96      2399\n",
      "\n"
     ]
    }
   ],
   "source": [
    "# Create a KNN classifier\n",
    "knn = KNeighborsClassifier()\n",
    "\n",
    "# Fit the model\n",
    "knn.fit(X_train, y_train)\n",
    "\n",
    "# Train the model using training set\n",
    "knn_pred = knn.predict(X_test)\n",
    "\n",
    "print (\"---KNN Classifier Model---\")\n",
    "knn_auc = roc_auc_score(y_test, knn_pred)\n",
    "print (\"KNN Classifier AUC = %2.2f\" % knn_auc)\n",
    "print(\"Accuracy = \", round(accuracy_score(y_test, knn_pred),2)) \n",
    "print()\n",
    "print(confusion_matrix(y_test, knn_pred))\n",
    "print(classification_report(y_test, knn_pred))"
   ]
  },
  {
   "cell_type": "markdown",
   "id": "259fc643",
   "metadata": {},
   "source": [
    "### Random Forest classification"
   ]
  },
  {
   "cell_type": "code",
   "execution_count": 17,
   "id": "a6ec3c36",
   "metadata": {},
   "outputs": [
    {
     "name": "stdout",
     "output_type": "stream",
     "text": [
      "---Random Forest Classifier Model---\n",
      "Random Forest AUC = 0.96\n",
      "Accuracy =  0.98\n",
      "\n",
      "[[1998    4]\n",
      " [  34  363]]\n",
      "              precision    recall  f1-score   support\n",
      "\n",
      "         0.0       0.98      1.00      0.99      2002\n",
      "         1.0       0.99      0.91      0.95       397\n",
      "\n",
      "    accuracy                           0.98      2399\n",
      "   macro avg       0.99      0.96      0.97      2399\n",
      "weighted avg       0.98      0.98      0.98      2399\n",
      "\n"
     ]
    }
   ],
   "source": [
    "# Create a random forest classifier\n",
    "rf = RandomForestClassifier()\n",
    "\n",
    "# Fit the model\n",
    "rf.fit(X_train, y_train)\n",
    "\n",
    "# Train the model using training set\n",
    "rf_pred = rf.predict(X_test)\n",
    "\n",
    "print (\"---Random Forest Classifier Model---\")\n",
    "rf_auc = roc_auc_score(y_test, rf_pred)\n",
    "print (\"Random Forest AUC = %2.2f\" % rf_auc)\n",
    "print(\"Accuracy = \", round(accuracy_score(y_test, rf_pred),2)) \n",
    "print()\n",
    "print(confusion_matrix(y_test, rf_pred))\n",
    "print(classification_report(y_test, rf_pred))"
   ]
  },
  {
   "cell_type": "markdown",
   "id": "0bc6e0a1",
   "metadata": {},
   "source": [
    "### Naive Bayes"
   ]
  },
  {
   "cell_type": "code",
   "execution_count": 18,
   "id": "7a5fff0e",
   "metadata": {},
   "outputs": [
    {
     "name": "stdout",
     "output_type": "stream",
     "text": [
      "---Naive Bayes Classifier Model---\n",
      "Naive Bayes AUC = 0.77\n",
      "Accuracy =  0.84\n",
      "\n",
      "[[1759  243]\n",
      " [ 132  265]]\n",
      "              precision    recall  f1-score   support\n",
      "\n",
      "         0.0       0.93      0.88      0.90      2002\n",
      "         1.0       0.52      0.67      0.59       397\n",
      "\n",
      "    accuracy                           0.84      2399\n",
      "   macro avg       0.73      0.77      0.74      2399\n",
      "weighted avg       0.86      0.84      0.85      2399\n",
      "\n"
     ]
    }
   ],
   "source": [
    "# Create a naive bayes classifier\n",
    "gnb = GaussianNB()\n",
    "\n",
    "# Fit the model\n",
    "gnb.fit(X_train, y_train)\n",
    "\n",
    "# Train the model using training set\n",
    "gnb_pred = gnb.predict(X_test)\n",
    "\n",
    "print (\"---Naive Bayes Classifier Model---\")\n",
    "gnb_auc = roc_auc_score(y_test, gnb_pred)\n",
    "print (\"Naive Bayes AUC = %2.2f\" % gnb_auc)\n",
    "print(\"Accuracy = \", round(accuracy_score(y_test, gnb_pred),2)) \n",
    "print()\n",
    "print(confusion_matrix(y_test, gnb_pred))\n",
    "print(classification_report(y_test, gnb_pred))"
   ]
  },
  {
   "cell_type": "code",
   "execution_count": 19,
   "id": "5e3d6e3a",
   "metadata": {
    "scrolled": false
   },
   "outputs": [
    {
     "data": {
      "image/png": "[encoded data removed]",
      "text/plain": [
       "<Figure size 720x576 with 1 Axes>"
      ]
     },
     "metadata": {
      "needs_background": "light"
     },
     "output_type": "display_data"
    }
   ],
   "source": [
    "# ROC Graph\n",
    "\n",
    "#logistic regression\n",
    "lr_fpr, lr_tpr, lr_thresholds = roc_curve(y_test, lr.predict_proba(X_test)[:,1])\n",
    "#naive bayes\n",
    "gnb_fpr, gnb_tpr, gnb_thresholds = roc_curve(y_test, gnb.predict_proba(X_test)[:,1])\n",
    "#knn\n",
    "knn_fpr, knn_tpr, knn_thresholds = roc_curve(y_test, knn.predict_proba(X_test)[:,1])\n",
    "#random forest\n",
    "rf_fpr, rf_tpr, rf_thresholds = roc_curve(y_test, rf.predict_proba(X_test)[:,1])\n",
    "\n",
    "plt.figure(figsize=(10,8))\n",
    "\n",
    "# Plot Logistic Regression ROC\n",
    "plt.plot(lr_fpr, lr_tpr, label='Logistic Regression (area = %0.2f)' % roc_auc_score(y_test, lr.predict(X_test)))\n",
    "\n",
    "# Plot Naive Bayes ROC\n",
    "plt.plot(gnb_fpr, gnb_tpr, label='Naive Bayes (area = %0.2f)' % roc_auc_score(y_test, gnb.predict(X_test)))\n",
    "\n",
    "# Plot KNN ROC\n",
    "plt.plot(knn_fpr, knn_tpr, label='KNN (area = %0.2f)' % roc_auc_score(y_test, knn.predict(X_test)))\n",
    "\n",
    "# Plot Random Forest ROC\n",
    "plt.plot(rf_fpr, rf_tpr, label='Random Forest (area = %0.2f)' % roc_auc_score(y_test, rf.predict(X_test)))\n",
    "\n",
    "\n",
    "plt.xlim([0.0, 1.10])\n",
    "plt.ylim([0.0, 1.05])\n",
    "plt.xlabel('False Positive Rate')\n",
    "plt.ylabel('True Positive Rate')\n",
    "plt.title('ROC Graph')\n",
    "plt.legend(loc=\"lower right\")\n",
    "plt.show()"
   ]
  },
  {
   "cell_type": "markdown",
   "id": "d687c374",
   "metadata": {},
   "source": [
    "## Random Forest have performed better than others."
   ]
  },
  {
   "cell_type": "markdown",
   "id": "b7dc4adb",
   "metadata": {},
   "source": [
    "### Feature Importance <br>\n",
    "\n",
    "Feature Importance refers to techniques that calculate a score for all the input features for a given model — the scores simply represent the “importance” of each feature. A higher score means that the specific feature will have a larger effect on the model that is being used to predict a certain variable.*\n",
    "\n",
    "I will use random forest to find the list of specific features that have considerable impact on the target value."
   ]
  },
  {
   "cell_type": "code",
   "execution_count": 20,
   "id": "234d83e7",
   "metadata": {},
   "outputs": [
    {
     "data": {
      "image/png": "[encoded data removed]",
      "text/plain": [
       "<Figure size 864x432 with 1 Axes>"
      ]
     },
     "metadata": {
      "needs_background": "light"
     },
     "output_type": "display_data"
    }
   ],
   "source": [
    "# Feature Importance using random forest\n",
    "\n",
    "plt.rcParams['figure.figsize'] = (12,6)\n",
    "\n",
    "## plot the importances ##\n",
    "importances = rf.feature_importances_\n",
    "feat_names = data.drop(['turnover'],axis=1).columns\n",
    "\n",
    "indices = np.argsort(importances)[::-1]\n",
    "plt.figure(figsize=(12,6))\n",
    "plt.title(\"Feature importance\")\n",
    "plt.bar(range(len(indices)), importances[indices], color='lightblue',  align=\"center\")\n",
    "plt.xticks(range(len(indices)), feat_names[indices], rotation='vertical',fontsize=14)\n",
    "plt.xlim([-1, len(indices)])\n",
    "plt.show()"
   ]
  },
  {
   "cell_type": "markdown",
   "id": "36b69d25",
   "metadata": {},
   "source": [
    "##### Satisfaction is the most important feature that can predict if a certain employee will leave the company or not followed by Number of projects in a year, time spent in the company, average monthly hours and evaluation."
   ]
  },
  {
   "cell_type": "markdown",
   "id": "45a87c73",
   "metadata": {},
   "source": [
    "### Conclusion\n",
    "\n",
    "- On Comparing the performance of algorithms, the highest accuracy is 0.96 obtained by Random Forest. Random Forest is robust to outliers, data is not overfitted and works best for categorical data.\n",
    "- AUC-ROC is used as the main model evaluater."
   ]
  }
 ],
 "metadata": {
  "kernelspec": {
   "display_name": "Python 3 (ipykernel)",
   "language": "python",
   "name": "python3"
  },
  "language_info": {
   "codemirror_mode": {
    "name": "ipython",
    "version": 3
   },
   "file_extension": ".py",
   "mimetype": "text/x-python",
   "name": "python",
   "nbconvert_exporter": "python",
   "pygments_lexer": "ipython3",
   "version": "3.9.12"
  }
 },
 "nbformat": 4,
 "nbformat_minor": 5
}
